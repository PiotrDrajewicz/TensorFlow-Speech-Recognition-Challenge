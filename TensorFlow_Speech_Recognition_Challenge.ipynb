{
  "nbformat": 4,
  "nbformat_minor": 0,
  "metadata": {
    "colab": {
      "name": "TensorFlow Speech Recognition Challenge",
      "provenance": [],
      "collapsed_sections": [
        "jXPbLB76mPiL",
        "Qj9MVRz3jqQM"
      ],
      "include_colab_link": true
    },
    "kernelspec": {
      "display_name": "Python 3",
      "name": "python3"
    }
  },
  "cells": [
    {
      "cell_type": "markdown",
      "metadata": {
        "id": "view-in-github",
        "colab_type": "text"
      },
      "source": [
        "<a href=\"https://colab.research.google.com/github/PiotrDrajewicz/TensorFlow-Speech-Recognition-Challenge/blob/main/TensorFlow_Speech_Recognition_Challenge.ipynb\" target=\"_parent\"><img src=\"https://colab.research.google.com/assets/colab-badge.svg\" alt=\"Open In Colab\"/></a>"
      ]
    },
    {
      "cell_type": "code",
      "metadata": {
        "id": "fOwlENgHDERi"
      },
      "source": [
        "from google.colab import drive\n",
        "drive.mount('/content/gdrive/')\n",
        "\n",
        "import os\n",
        "root = '/content/gdrive/My Drive/colab/tm2020/Grupa_5/Projekt 2/data'  #ścieżka do katalogu roboczego na dysku google\n",
        "os.chdir(root)"
      ],
      "execution_count": null,
      "outputs": []
    },
    {
      "cell_type": "markdown",
      "metadata": {
        "id": "lBwFZu6O1RvT"
      },
      "source": [
        "# Instalacja i import bibliotek"
      ]
    },
    {
      "cell_type": "code",
      "metadata": {
        "id": "RMHP16dpES5R"
      },
      "source": [
        "import concurrent.futures\n",
        "import pickle\n",
        "import hashlib\n",
        "import os, pickle\n",
        "import re\n",
        "import time\n",
        "import tensorflow as tf\n",
        "import numpy as np\n",
        "from scipy.io import wavfile\n",
        "from datetime import datetime\n",
        "from packaging import version"
      ],
      "execution_count": null,
      "outputs": []
    },
    {
      "cell_type": "markdown",
      "metadata": {
        "id": "ZVxarxOtUS-S"
      },
      "source": [
        "# Zapięcie GPU i test"
      ]
    },
    {
      "cell_type": "code",
      "metadata": {
        "colab": {
          "base_uri": "https://localhost:8080/"
        },
        "id": "o35eFnEeEmwG",
        "outputId": "7fc666e0-2c51-4ecc-b993-7f535fd488c4"
      },
      "source": [
        "#zamontowanie GPU\n",
        "print(\"TensorFlow version: \", tf.__version__)\n",
        "print(\"Num GPUs Available: \", len(tf.config.experimental.list_physical_devices('GPU')))"
      ],
      "execution_count": null,
      "outputs": [
        {
          "output_type": "stream",
          "text": [
            "TensorFlow version:  2.4.0\n",
            "Num GPUs Available:  0\n"
          ],
          "name": "stdout"
        }
      ]
    },
    {
      "cell_type": "code",
      "metadata": {
        "id": "EjgI1Cl3UDhL"
      },
      "source": [
        "import timeit\n",
        "\n",
        "device_name = tf.test.gpu_device_name()\n",
        "if device_name != '/device:GPU:0':\n",
        "  print(\n",
        "      '\\n\\nThis error most likely means that this notebook is not '\n",
        "      'configured to use a GPU.  Change this in Notebook Settings via the '\n",
        "      'command palette (cmd/ctrl-shift-P) or the Edit menu.\\n\\n')\n",
        "  raise SystemError('GPU device not found')\n",
        "\n",
        "def cpu():\n",
        "  with tf.device('/cpu:0'):\n",
        "    random_image_cpu = tf.random.normal((100, 100, 100, 3))\n",
        "    net_cpu = tf.keras.layers.Conv2D(32, 7)(random_image_cpu)\n",
        "    return tf.math.reduce_sum(net_cpu)\n",
        "\n",
        "def gpu():\n",
        "  with tf.device('/device:GPU:0'):\n",
        "    random_image_gpu = tf.random.normal((100, 100, 100, 3))\n",
        "    net_gpu = tf.keras.layers.Conv2D(32, 7)(random_image_gpu)\n",
        "    return tf.math.reduce_sum(net_gpu)\n",
        "  \n",
        "# We run each op once to warm up; see: https://stackoverflow.com/a/45067900\n",
        "cpu()\n",
        "gpu()\n",
        "\n",
        "# Run the op several times.\n",
        "print('Time (s) to convolve 32x7x7x3 filter over random 100x100x100x3 images '\n",
        "      '(batch x height x width x channel). Sum of ten runs.')\n",
        "print('CPU (s):')\n",
        "cpu_time = timeit.timeit('cpu()', number=10, setup=\"from __main__ import cpu\")\n",
        "print(cpu_time)\n",
        "print('GPU (s):')\n",
        "gpu_time = timeit.timeit('gpu()', number=10, setup=\"from __main__ import gpu\")\n",
        "print(gpu_time)\n",
        "print('GPU speedup over CPU: {}x'.format(int(cpu_time/gpu_time)))"
      ],
      "execution_count": null,
      "outputs": []
    },
    {
      "cell_type": "markdown",
      "metadata": {
        "id": "jyBjOfZPXeLB"
      },
      "source": [
        "\n",
        "```\n",
        "def which_set(filename, validation_percentage, testing_percentage)\n",
        "```\n",
        "\n",
        "\n",
        "Determines which data partition the file should belong to.\n",
        "We want to keep files in the same training, validation, or testing sets even if new ones are added over time. \n",
        "This makes it less likely that testing samples will accidentally be reused in training when long runs are restarted for example. \n",
        "To keep this stability, a hash of the filename is taken and used to determine which set it should belong to. \n",
        "This determination only depends on the name and the set proportions, so it won't change as other files are added.\n",
        "It's also useful to associate particular files as related (for example words spoken by the same person), so anything after 'nohash' in a filename is ignored for set determination. \n",
        "his ensures that 'bobby_nohash_0.wav' and 'bobby_nohash_1.wav' are always in the same set, for example.\n",
        "```\n",
        "Args: filename: File path of the data sample. \n",
        "validation_percentage: How much of the data set to use for validation. \n",
        "testing_percentage: How much of the data set to use for testing.\n",
        "Returns: String, one of 'training', 'validation', or 'testing'. \n",
        "```\n",
        "This looks a bit magical, but we need to decide whether this file should go into the training, testing, or validation sets, and we want to keep existing files in the same set even if more files are subsequently added. To do that, we need a stable way of deciding based on just the file name itself, so we do a hash of that and then use that to generate a probability value that we use to assign it.\n",
        "\n",
        "\n",
        "The results of running this over the current set are included in this archive as validation_list.txt and testing_list.txt. These text files contain the paths to all the files in each set, with each path on a new line. Any files that aren't in either of these lists can be considered to be part of the training set.\n"
      ]
    },
    {
      "cell_type": "code",
      "metadata": {
        "id": "GabTymVCXOzz"
      },
      "source": [
        "#wynik uruchomienia tej funkcji znajduje się w plikach tekstowych na dysku\n",
        "MAX_NUM_WAVS_PER_CLASS = 2**27 - 1 # ~134M\n",
        "#MAX_NUM_WAVS_PER_CLASS = 2**3 - 1 # ~134M\n",
        "\n",
        "def which_set(filename, validation_percentage, testing_percentage):\n",
        "    base_name = os.path.basename(filename)\n",
        "    hash_name = re.sub(r'nohash.*$', '', base_name)\n",
        "    hash_name=hash_name.encode('utf-8')\n",
        "    hash_name_hashed = hashlib.sha1(hash_name).hexdigest()\n",
        "    percentage_hash = ((int(hash_name_hashed, 16) % (MAX_NUM_WAVS_PER_CLASS + 1)) * (100.0 / MAX_NUM_WAVS_PER_CLASS))\n",
        "    if percentage_hash < validation_percentage:\n",
        "        result = 'validation'\n",
        "    elif percentage_hash < (testing_percentage + validation_percentage):\n",
        "        result = 'testing'\n",
        "    else:\n",
        "        result = 'training'\n",
        "    return result"
      ],
      "execution_count": null,
      "outputs": []
    },
    {
      "cell_type": "code",
      "metadata": {
        "id": "Gp-mfFrEEPIT"
      },
      "source": [
        "def load(path):\n",
        "    path=root+path\n",
        "    training=[]\n",
        "    validation=[]\n",
        "    testing=[]\n",
        "    print(f'Rozpoczęto wczytywanie {path}')\n",
        "    for i in os.listdir(path):\n",
        "        set_name=which_set(path+i,10,10)\n",
        "        if set_name=='training':\n",
        "          fs, y = wavfile.read(path+i)\n",
        "          y = y.astype('float32')\n",
        "          training.append(y)\n",
        "        elif set_name=='validation':\n",
        "          fs, y = wavfile.read(path+i)\n",
        "          y = y.astype('float32')\n",
        "          validation.append(y)\n",
        "        elif set_name=='testing':\n",
        "          fs, y = wavfile.read(path+i)\n",
        "          y = y.astype('float32')\n",
        "          testing.append(y)\n",
        "        else:\n",
        "          print('ERROR: undefined set!')\n",
        "    print(f'Wczytano zbiór {path}')\n",
        "    return training,validation,testing"
      ],
      "execution_count": null,
      "outputs": []
    },
    {
      "cell_type": "code",
      "metadata": {
        "id": "tMUenR98E44w"
      },
      "source": [
        "paths = ['/train/audio/go/',\n",
        "         '/train/audio/down/',\n",
        "         '/train/audio/left/',\n",
        "         '/train/audio/one/',\n",
        "         '/train/audio/marvin/']\n",
        "         #aby dodać nowy plik do wczytania dopisz kolejnego stringa po przecinku"
      ],
      "execution_count": null,
      "outputs": []
    },
    {
      "cell_type": "markdown",
      "metadata": {
        "id": "YzOVvWzsbEoM"
      },
      "source": [
        "*Lista dostępnych klas do wczytania*\n",
        "\n",
        "\n",
        ">` !ls train/audio`\n",
        "\n",
        "\n",
        "> ```\n",
        "_background_noise_  dog    four   left\t  off\t seven\t three\twow\n",
        "bed\t\t    down   go\t  marvin  on\t sheila  tree\tyes\n",
        "bird\t\t    eight  happy  nine\t  one\t six\t two\tzero\n",
        "cat\t\t    five   house  no\t  right  stop\t up\n",
        "```\n",
        "\n",
        "\n"
      ]
    },
    {
      "cell_type": "code",
      "metadata": {
        "id": "4nRGbcJjEwb-"
      },
      "source": [
        "training=[]\n",
        "validation=[]\n",
        "testing=[]\n",
        "start=time.perf_counter()\n",
        "#with concurrent.futures.ThreadPoolExecutor() as executor:\n",
        "    #results = executor.map(load,paths)\n",
        "results=map(load,paths)\n",
        "for result in results:\n",
        "  training.append(result[0])\n",
        "  validation.append(result[1])\n",
        "  testing.append(result[2])\n",
        "end = time.perf_counter()\n",
        "print(f'Finished in {round(end-start,2)} seconds')"
      ],
      "execution_count": null,
      "outputs": []
    },
    {
      "cell_type": "markdown",
      "metadata": {
        "id": "Ju4P-rrSa6-5"
      },
      "source": [
        "**UWAGA: gdzies tu prawdopodobnie jest bottleneck, to prawdopodobnie kwestia zapisu do trzech list\n",
        "a nie jednej jak wczesniej. Sprawdzic czy trzeba zmienic ThreadPool na ProcessPool albo jakos inaczej zapisywac."
      ]
    },
    {
      "cell_type": "markdown",
      "metadata": {
        "id": "hMpeiC6ld_x-"
      },
      "source": [
        "# Zapis do pickla"
      ]
    },
    {
      "cell_type": "code",
      "metadata": {
        "id": "yzBQR2eVVL6A"
      },
      "source": [
        "#GODOLEONEMA - kolejnosc zapisanych slow w listach: 'GO' 'DOwn' 'LEft' 'ONE' 'MArvin'\n",
        "outname=open('training',\"wb\")\n",
        "pickle.dump(training,outname)\n",
        "outname.close()\n",
        "outname=open('validation',\"wb\")\n",
        "pickle.dump(validation,outname)\n",
        "outname.close()\n",
        "outname=open('testing',\"wb\")\n",
        "pickle.dump(testing,outname)\n",
        "outname.close()"
      ],
      "execution_count": null,
      "outputs": []
    },
    {
      "cell_type": "markdown",
      "metadata": {
        "id": "eP6OMUTMeRm9"
      },
      "source": [
        "# Wczytanie pickla - TO URUCHAMIAĆ\n",
        "**GODOLEONEMA**"
      ]
    },
    {
      "cell_type": "code",
      "metadata": {
        "id": "w33sNcG_X4dQ"
      },
      "source": [
        "def pickle_out(picklename): \n",
        "    data = open(str(picklename), 'rb')\n",
        "    name = pickle.load(data)\n",
        "    return name"
      ],
      "execution_count": null,
      "outputs": []
    },
    {
      "cell_type": "code",
      "metadata": {
        "colab": {
          "base_uri": "https://localhost:8080/"
        },
        "id": "UPkkE8utX9Qm",
        "outputId": "7535f683-9f5c-46c1-826e-cd292e8a0553"
      },
      "source": [
        "#dodać tu multithreading\n",
        "start=time.perf_counter()\n",
        "train=pickle_out('training')\n",
        "valid=pickle_out('validation')\n",
        "test=pickle_out('testing')\n",
        "end = time.perf_counter()\n",
        "print(f'Finished in {round(end-start,2)} seconds')"
      ],
      "execution_count": null,
      "outputs": [
        {
          "output_type": "stream",
          "text": [
            "Finished in 7.43 seconds\n"
          ],
          "name": "stdout"
        }
      ]
    },
    {
      "cell_type": "markdown",
      "metadata": {
        "id": "gZX5kFZ5hjQS"
      },
      "source": [
        "**Podsumowanie powyższego etapu**\n",
        "\n",
        "\n",
        "*   Dostęp do nagrań: train[0][0] - pierwsze nagranie pierwszego słowa z zestawu treningowego\n",
        "\n",
        "*  Można wygodnie wczytać pliki po prostu dodając ścieżkę w jednym miejscu\n",
        "```\n",
        "paths = ['/train/audio/nowa_sciezka/]\n",
        "```\n",
        "* Zbiory są dobierane z uwzględnieniem ich realnych rozmiarów, czyli jak na dysku google mamy niepełne zbiory niektórych klas to wczytywanie i tak zadziała i podzieli w dobrym stosunku\n",
        "    > **UWAGA:** Zmiana stosunku podzialu zbioru odbywa sie w środku funkcji.\n",
        "```\n",
        "def load(path):\n",
        "[...]\n",
        "set_name=which_set(path+i,10,10)\n",
        "```\n",
        "Czyli obecnie zbior validacyjny 10% i testowy 10%\n",
        "\n",
        "*   Zbiory dobierane są tylko na podstawie samych siebie - do działania programu nie potrzeba żadnego pliku z notatnika itp. Tym sposobem unikam szansy na błąd, np w złym zapisie nazwy plików.\n",
        "\n",
        "\n",
        "\n",
        "\n",
        "\n",
        "\n",
        "\n"
      ]
    },
    {
      "cell_type": "markdown",
      "metadata": {
        "id": "ui5AyC3ikhGF"
      },
      "source": [
        "# Do zrobienia:\n",
        "\n",
        "**Zrobione**\n",
        "\n",
        "\n",
        "---\n",
        "\n",
        "\n",
        "*  14.01- Podać wczytane zbiory do obróbki spektrogramu - uzyskać log mel spektrogramy (najlepiej z pomocą tensorflow i zapiętym GPU)\n",
        "  > **UWAGA:** po uruchomieniu komórki z wczytaniem pickli zbiory są już gotowe:\n",
        "```\n",
        "train #treningowy\n",
        "valid #validacyjny\n",
        "test #testowy\n",
        "```\n",
        "* 14.01- Poprawić kod sieci, żeby przyjmowała macierze log mel spektrogramów\n",
        "\n",
        "\n",
        "\n",
        "\n",
        "**Do zrobienia**\n",
        "\n",
        "---\n",
        "\n",
        "\n",
        "*   Zapisać log mel spektrogramy do pickli (opcjonalne)\n",
        "\n",
        "* 15.01- Pierwsze testy nowego trybu programu\n",
        "* 15.01- Jeśli sieć działa, ogarnąć jakiegoś Profilera albo inne narzędzie do monitorowania treningu.\n",
        "* Rozważyć augumentację danych\n",
        "* Dobranie optymalnych parametrów (spektrogramu, sieci)\n",
        "* Jeśli sieć działa, to zapisać do pickla cały zbiór (na PC)\n",
        "* Przed zapisaniem całego zbioru zastanowić się czy da się ulepszyć load()\n",
        "\n",
        "\n",
        "\n",
        "\n",
        "\n",
        "\n",
        "\n"
      ]
    },
    {
      "cell_type": "markdown",
      "metadata": {
        "id": "IR-xgFAdMBKD"
      },
      "source": [
        "# Tworzenie log mel spektrogramów"
      ]
    },
    {
      "cell_type": "code",
      "metadata": {
        "id": "SLHJUE5nMGX0"
      },
      "source": [
        "!pip install tensorflow_io==0.17.0\n",
        "import tensorflow_io as tfio\n",
        "import librosa\n",
        "import librosa.display\n",
        "import matplotlib.pyplot as plt\n",
        "from numpy import array"
      ],
      "execution_count": null,
      "outputs": []
    },
    {
      "cell_type": "code",
      "metadata": {
        "id": "-OutFnmnMIna"
      },
      "source": [
        "#funkcja licząca docelowo log mel spektrogramy dla całego danego zbioru\n",
        "#testowane\n",
        "'''fs,nfft,winlen,hop,nmels,fmin,fmax=16000,1024,1024,125,32,0,8000\n",
        "\n",
        "def make_logmelspektr(input_list, output_list):\n",
        "  Fs = 16000\n",
        "  for i in range(len(input_list)):\n",
        "    output_list.append([])\n",
        "    for j in range(len(input_list[i])):\n",
        "      #zeropadding do niepelneych nagran\n",
        "      spektro = tfio.experimental.audio.spectrogram(input_list[i][j], nfft=1024, window=1024, stride=125)\n",
        "      spektro = tf.cast(spektro, tf.float32)\n",
        "      mel = tfio.experimental.audio.melscale(spektro,rate=fs,mels=nmels,fmin=fmin,fmax=fmax)\n",
        "      logmel=tfio.experimental.audio.dbscale(mel,top_db=100)\n",
        "      a = array(logmel)\n",
        "      if a.shape != (128, 32): continue\n",
        "      output_list[i].append((logmel,i))"
      ],
      "execution_count": null,
      "outputs": []
    },
    {
      "cell_type": "code",
      "metadata": {
        "id": "BHsjhcZ3fUZK"
      },
      "source": [
        "#padding\n",
        "#testowane\n",
        "'''incomplete=[]\n",
        "final=[]\n",
        "pad=np.zeros(16000)\n",
        "for index,singleClass in enumerate(train):\n",
        "  incomplete.append([])\n",
        "  final.append([])\n",
        "  for data in singleClass:\n",
        "    if len(data)!=16000:\n",
        "      incomplete[index].append(data)\n",
        "      pad[:len(data)]=data\n",
        "    else: \n",
        "        pad=data\n",
        "    final[index].append(pad)"
      ],
      "execution_count": null,
      "outputs": []
    },
    {
      "cell_type": "code",
      "metadata": {
        "id": "e943wiY2WFeJ"
      },
      "source": [
        "#funkcja licząca docelowo log mel spektrogramy dla całego danego zbioru\n",
        "#testowane\n",
        "'''fs,nfft,winlen,hop,nmels,fmin,fmax=16000,1024,1024,125,32,0,8000\n",
        "\n",
        "def make_logmelspektr2(input):\n",
        "  print('Wczytuję...')\n",
        "  Fs = 16000\n",
        "  pad=np.zeros(Fs)\n",
        "  output=[]\n",
        "  for index,data in enumerate(input):\n",
        "    if len(data)!=Fs:\n",
        "      pad[:len(data)]=data\n",
        "    else: \n",
        "        pad=data\n",
        "    spektro = tfio.experimental.audio.spectrogram(pad, nfft=1024, window=1024, stride=125)\n",
        "    spektro = tf.cast(spektro, tf.float32)\n",
        "    mel = tfio.experimental.audio.melscale(spektro,rate=fs,mels=nmels,fmin=fmin,fmax=fmax)\n",
        "    logmel=tfio.experimental.audio.dbscale(mel,top_db=100)\n",
        "    a = array(logmel) #czemu konwertujemy tensor na array?\n",
        "    if a.shape != (128, 32): continue\n",
        "    output.append(logmel)\n",
        "  print('Wczytano')\n",
        "  return output"
      ],
      "execution_count": null,
      "outputs": []
    },
    {
      "cell_type": "code",
      "metadata": {
        "colab": {
          "background_save": true
        },
        "id": "aj6gPOFGc8Qk",
        "outputId": "ce466e67-6b7d-4806-badd-a3ab16554be4"
      },
      "source": [
        "#tworzenie listy log mel spektr dla zbioru treningowego\n",
        "start=time.perf_counter()\n",
        "lmstft=[]\n",
        "for i in range(len(train)):\n",
        "  lmstft.append([])\n",
        "  for j in range(len(train[i])):\n",
        "    lmstft[i].append(logmelstft(train[i][j]))\n",
        "end = time.perf_counter()\n",
        "print(f'Finished in {round(end-start,2)} seconds')"
      ],
      "execution_count": null,
      "outputs": [
        {
          "output_type": "stream",
          "text": [
            "Finished in 238.74 seconds\n"
          ],
          "name": "stdout"
        }
      ]
    },
    {
      "cell_type": "code",
      "metadata": {
        "id": "ijE1bWSEnV2Y"
      },
      "source": [
        "outname=open('lmstft_train',\"wb\")\n",
        "pickle.dump(lmstft,outname)\n",
        "outname.close()"
      ],
      "execution_count": null,
      "outputs": []
    },
    {
      "cell_type": "code",
      "metadata": {
        "colab": {
          "base_uri": "https://localhost:8080/"
        },
        "id": "7Jsx8249vyWu",
        "outputId": "674e4312-d448-4c71-86f5-d094faac84a8"
      },
      "source": [
        "#tworzenie listy log mel spektr dla zbioru testowego\n",
        "start=time.perf_counter()\n",
        "lmstft_test=[]\n",
        "for i in range(len(test)):\n",
        "  lmstft_test.append([])\n",
        "  for j in range(len(test[i])):\n",
        "    lmstft_test[i].append(logmelstft(test[i][j]))\n",
        "end = time.perf_counter()\n",
        "print(f'Finished in {round(end-start,2)} seconds')"
      ],
      "execution_count": null,
      "outputs": [
        {
          "output_type": "stream",
          "text": [
            "Finished in 31.99 seconds\n"
          ],
          "name": "stdout"
        }
      ]
    },
    {
      "cell_type": "code",
      "metadata": {
        "id": "-8OJVbXcwnyz"
      },
      "source": [
        "outname=open('lmstft_test',\"wb\")\n",
        "pickle.dump(lmstft_test,outname)\n",
        "outname.close()"
      ],
      "execution_count": null,
      "outputs": []
    },
    {
      "cell_type": "code",
      "metadata": {
        "colab": {
          "background_save": true,
          "base_uri": "https://localhost:8080/"
        },
        "id": "z32nJWLDwQnm",
        "outputId": "424ddf85-4dd7-4917-bc3d-89f2312cab2f"
      },
      "source": [
        "#tworzenie listy log mel spektr dla zbioru walidacyjnego\n",
        "start=time.perf_counter()\n",
        "lmstft_valid=[]\n",
        "for i in range(len(valid)):\n",
        "  lmstft_valid.append([])\n",
        "  for j in range(len(valid[i])):\n",
        "    lmstft_valid[i].append(logmelstft(valid[i][j]))\n",
        "end = time.perf_counter()\n",
        "print(f'Finished in {round(end-start,2)} seconds')"
      ],
      "execution_count": null,
      "outputs": [
        {
          "output_type": "stream",
          "text": [
            "Finished in 28.87 seconds\n"
          ],
          "name": "stdout"
        }
      ]
    },
    {
      "cell_type": "code",
      "metadata": {
        "colab": {
          "background_save": true
        },
        "id": "Xas1ITPswtm8"
      },
      "source": [
        "outname=open('lmstft_valid',\"wb\")\n",
        "pickle.dump(lmstft_valid,outname)\n",
        "outname.close()"
      ],
      "execution_count": null,
      "outputs": []
    },
    {
      "cell_type": "markdown",
      "metadata": {
        "id": "FkP86VJfvcmS"
      },
      "source": [
        "# Wczytywanie LMSTFT z pickla"
      ]
    },
    {
      "cell_type": "code",
      "metadata": {
        "id": "wuL9fs7UnZju"
      },
      "source": [
        "train_lmstft=pickle_out('lmstft_train')\n",
        "test_lmstft=pickle_out('lmstft_test')\n",
        "valid_lmstft=pickle_out('lmstft_valid')"
      ],
      "execution_count": null,
      "outputs": []
    },
    {
      "cell_type": "code",
      "metadata": {
        "colab": {
          "base_uri": "https://localhost:8080/"
        },
        "id": "nbuixMbadC8g",
        "outputId": "fdc0ad40-644e-4121-af76-0408d2e08eff"
      },
      "source": [
        "#sprawdzenie rozmiarów\n",
        "sum = 0\n",
        "for i in range(5):\n",
        "  #print(len(train_lmstft[i]))\n",
        "  sum += len(valid_lmstft[i])\n",
        "  print(sum)\n",
        "#len(LogMelSpektr_train_list[2][0])"
      ],
      "execution_count": null,
      "outputs": [
        {
          "output_type": "stream",
          "text": [
            "210\n",
            "451\n",
            "676\n",
            "899\n",
            "1087\n"
          ],
          "name": "stdout"
        }
      ]
    },
    {
      "cell_type": "markdown",
      "metadata": {
        "id": "lv485VG5nWzT"
      },
      "source": [
        "Zamiana zbiorów treningowego i testowego na długie listy bez wyraźnego podziału na klasy w celu uzyskania odpowiedniego formatu dla sieci (do każdego nagrania przypisana jest cyfra od 0 do 4 określająca klase do której dane nagranie należy)"
      ]
    },
    {
      "cell_type": "code",
      "metadata": {
        "id": "WFeMk3i1m2mT"
      },
      "source": [
        "#przekształcenie zbioru treningowego w długą liste bez wyraźnego podziały na klasy\n",
        "oneD_train_list = sum(train_lmstft,[])\n",
        "#przekształcenie zbioru testowego w długą liste bez wyraźnego podziały na klasy\n",
        "oneD_test_list = sum(test_lmstft,[])\n",
        "oneD_valid_list = sum(valid_lmstft,[])"
      ],
      "execution_count": null,
      "outputs": []
    },
    {
      "cell_type": "markdown",
      "metadata": {
        "id": "jXPbLB76mPiL"
      },
      "source": [
        "# Rysowanie spektrogramów - obecnie niepotrzebne\n",
        "\n",
        "1. Power spectrogram"
      ]
    },
    {
      "cell_type": "code",
      "metadata": {
        "id": "LrHh8T7iGeBc"
      },
      "source": [
        "import matplotlib.pyplot as plt\n",
        "\n",
        "def plot_2d(t,f,X,title, ylab):\n",
        "    fig = plt.figure(figsize=(12, 3))\n",
        "    im1 = plt.pcolormesh(t, f, X)\n",
        "    plt.title(title)\n",
        "    plt.xlabel(\"Time [sec]\")\n",
        "    plt.ylabel(ylab)\n",
        "    fig.colorbar(im1)"
      ],
      "execution_count": null,
      "outputs": []
    },
    {
      "cell_type": "code",
      "metadata": {
        "id": "DFg09wPnGcCG"
      },
      "source": [
        "import librosa\n",
        "\n",
        "#n_fft = 512     # Liczba prążków w STFT\n",
        "#winlen = 320    # Długość okna\n",
        "#winhop = 160     # Interwał pomiędzy oknami\n",
        "#n_filt = 20     # Liczba filtrów melowych\n",
        "#n_mfcc = 10     # Wyjściowa liczba wymiarów MFCC (cech)\n",
        "\n",
        "fs = 16000\n",
        "n_fft = 1024     # Liczba prążków w STFT\n",
        "winlen = 1024    # Długość okna\n",
        "winhop = 512     # Interwał pomiędzy oknami\n",
        "n_filt = 128     # Liczba filtrów melowych\n",
        "n_mfcc = 10     # Wyjściowa liczba wymiarów MFCC (cech)\n",
        "\n",
        "\n",
        "#fs,nfft,winlen,hop,nmels,fmin,fmax=16000,1024,1024,512,32,0,8000\n",
        "\n",
        "x = train[0][0]\n",
        "\n",
        "#STFT\n",
        "from scipy import signal, fftpack\n",
        "f, t, X = signal.stft(x, fs, nperseg=winlen, noverlap=winlen-winhop, nfft=n_fft, window='hamming', padded=False, boundary=None)\n",
        "\n",
        "PS = np.abs(X)**2\n",
        "fbank =  librosa.filters.mel(fs, n_fft, n_mels = n_filt)"
      ],
      "execution_count": null,
      "outputs": []
    },
    {
      "cell_type": "code",
      "metadata": {
        "id": "s54mj04vn0aV"
      },
      "source": [
        "#t = np.append(t, [0.992, 1.024])\n",
        "#len(t)"
      ],
      "execution_count": null,
      "outputs": []
    },
    {
      "cell_type": "code",
      "metadata": {
        "colab": {
          "base_uri": "https://localhost:8080/"
        },
        "id": "MZiPpTkFHNhD",
        "outputId": "56ff03fb-5bca-4af6-d2ee-a77788073a2f"
      },
      "source": [
        "np.shape(PS.T)"
      ],
      "execution_count": null,
      "outputs": [
        {
          "output_type": "execute_result",
          "data": {
            "text/plain": [
              "(30, 513)"
            ]
          },
          "metadata": {
            "tags": []
          },
          "execution_count": 12
        }
      ]
    },
    {
      "cell_type": "code",
      "metadata": {
        "colab": {
          "base_uri": "https://localhost:8080/",
          "height": 244
        },
        "id": "P8gV958HGVoK",
        "outputId": "07602f36-d4d1-4aae-c126-ba359ca5a452"
      },
      "source": [
        "plot_2d(t,f,PS,\"$|STFT|^2$\",\"Frequency [Hz]\")"
      ],
      "execution_count": null,
      "outputs": [
        {
          "output_type": "display_data",
          "data": {
            "image/png": "[encoded data removed]",
            "text/plain": [
              "<Figure size 864x216 with 2 Axes>"
            ]
          },
          "metadata": {
            "tags": []
          }
        }
      ]
    },
    {
      "cell_type": "code",
      "metadata": {
        "id": "9iZWwZtBJFS9"
      },
      "source": [
        "print(PS.T)"
      ],
      "execution_count": null,
      "outputs": []
    },
    {
      "cell_type": "code",
      "metadata": {
        "colab": {
          "base_uri": "https://localhost:8080/",
          "height": 298
        },
        "id": "BrL688KoHPrQ",
        "outputId": "ba660b47-8f3a-4609-ec6e-c4e0a3a71f0b"
      },
      "source": [
        "import librosa.display\n",
        "\n",
        "ps = librosa.feature.melspectrogram(y=train[0][0], sr=16000)\n",
        "librosa.display.specshow(ps, y_axis='mel', x_axis='time')"
      ],
      "execution_count": null,
      "outputs": [
        {
          "output_type": "execute_result",
          "data": {
            "text/plain": [
              "<matplotlib.axes._subplots.AxesSubplot at 0x7fe9a0a82f28>"
            ]
          },
          "metadata": {
            "tags": []
          },
          "execution_count": 15
        },
        {
          "output_type": "display_data",
          "data": {
            "image/png": "[encoded data removed]",
            "text/plain": [
              "<Figure size 432x288 with 1 Axes>"
            ]
          },
          "metadata": {
            "tags": []
          }
        }
      ]
    },
    {
      "cell_type": "markdown",
      "metadata": {
        "id": "TSYJ39T2GPTl"
      },
      "source": [
        "2. Mel power spectrogram"
      ]
    },
    {
      "cell_type": "code",
      "metadata": {
        "id": "njrR4rXuvr-L"
      },
      "source": [
        "# pierwsze - numer klasy, drugie - numer nagrania\n",
        "len(train[0][46])"
      ],
      "execution_count": null,
      "outputs": []
    },
    {
      "cell_type": "code",
      "metadata": {
        "colab": {
          "base_uri": "https://localhost:8080/",
          "height": 258
        },
        "id": "RD_Q5SQRmiDr",
        "outputId": "0bdc7214-88e8-493b-ed57-0bbdcf6d95ad"
      },
      "source": [
        "# Mel Power Spectrogram\n",
        "MPS = np.dot(fbank,PS)\n",
        "plot_2d(t,np.arange(0,n_filt),MPS,\"Mel Power Spectrogram\",\"# Filter\")\n",
        "#print(MPS)\n",
        "#print(t)\n",
        "print(np.size(MPS))"
      ],
      "execution_count": null,
      "outputs": [
        {
          "output_type": "stream",
          "text": [
            "960\n"
          ],
          "name": "stdout"
        },
        {
          "output_type": "display_data",
          "data": {
            "image/png": "[encoded data removed]",
            "text/plain": [
              "<Figure size 864x216 with 2 Axes>"
            ]
          },
          "metadata": {
            "tags": []
          }
        }
      ]
    },
    {
      "cell_type": "markdown",
      "metadata": {
        "id": "WzQtWTKjxSGF"
      },
      "source": [
        "3. Log mel power spectrogram"
      ]
    },
    {
      "cell_type": "code",
      "metadata": {
        "id": "oRpvX0vgxWLc"
      },
      "source": [
        "# Logarithm\n",
        "logMPS = np.log10(MPS)\n",
        "plot_2d(t,np.arange(0,n_filt),logMPS,\"Log(Mel Power Spectrogram)\",\"# Filter\")\n",
        "#print(logMPS)\n",
        "#np.size(logMPS)"
      ],
      "execution_count": null,
      "outputs": []
    },
    {
      "cell_type": "markdown",
      "metadata": {
        "id": "Qj9MVRz3jqQM"
      },
      "source": [
        "# Parametryzacja danych do spektrogramów - obecnie niepotrzebne\n",
        "testowane"
      ]
    },
    {
      "cell_type": "code",
      "metadata": {
        "id": "wSlo1CJcXtFm"
      },
      "source": [
        "!pip install tensorflow_io==0.17.0"
      ],
      "execution_count": null,
      "outputs": []
    },
    {
      "cell_type": "code",
      "metadata": {
        "id": "QPo6Dkv6teu9"
      },
      "source": [
        "import tensorflow_io as tfio\n",
        "\n",
        "#ustawiam parametry potrzebne do policzenia poniższych funkcji (spektrogram, mel spektrogram, log - mel - spektrogram)\n",
        "fs,nfft,winlen,hop,nmels,fmin,fmax=16000,1024,1024,512,32,0,8000\n",
        "#parametry testowe "
      ],
      "execution_count": null,
      "outputs": []
    },
    {
      "cell_type": "code",
      "metadata": {
        "id": "XTZ0bISPnC_U"
      },
      "source": [
        "spectrogram_test=tfio.experimental.audio.spectrogram(\n",
        "    train[0][0], nfft=1024, window=1024, stride=512)\n",
        "#coś się policzyło - sprawdzić, czy to faktycznie spektrogram słowa 'go'\n",
        "#spectrogram_test = tf.cast(spectrogram_test, tf.float32)\n",
        "#mel-spektrogram nie chciał się policzyć bez linijki 5 - to chyba zwykła zmiana formatu na float32\n",
        "print(spectrogram_test)"
      ],
      "execution_count": null,
      "outputs": []
    },
    {
      "cell_type": "code",
      "metadata": {
        "id": "ZJd8wfv1oDNP"
      },
      "source": [
        "t_new = t.T\n",
        "print(np.shape(t))\n",
        "#plot_2d(t_new,f,spectrogram_test,\"$|STFT|^2$\",\"Frequency [Hz]\")"
      ],
      "execution_count": null,
      "outputs": []
    },
    {
      "cell_type": "code",
      "metadata": {
        "id": "keL_kzKXtQUa"
      },
      "source": [
        "mel_test=tfio.experimental.audio.melscale(spectrogram_test,rate=fs,mels=nmels,fmin=fmin,fmax=fmax)\n",
        "#coś się policzyło - sprawdzić czy sensowne\n",
        "print(mel_test)"
      ],
      "execution_count": null,
      "outputs": []
    },
    {
      "cell_type": "code",
      "metadata": {
        "id": "9nMXlxFAvNKf"
      },
      "source": [
        "logmel_test=tfio.experimental.audio.dbscale(mel_test,top_db=100)\n",
        "print(logmel_test)"
      ],
      "execution_count": null,
      "outputs": []
    },
    {
      "cell_type": "code",
      "metadata": {
        "id": "4d2BpLjzzqDo"
      },
      "source": [
        "#test rozmiarów - zorientować się jaki rozmiar powinny mieć poprawnie policzone spektrogramy i porównać z wynikami\n",
        "print(np.shape(spectrogram_test),\n",
        "np.shape(mel_test),\n",
        "np.shape(logmel_test))"
      ],
      "execution_count": null,
      "outputs": []
    },
    {
      "cell_type": "markdown",
      "metadata": {
        "id": "weny5A72y0XO"
      },
      "source": [
        "# Sieć"
      ]
    },
    {
      "cell_type": "code",
      "metadata": {
        "id": "ib4nTPJOMcC8"
      },
      "source": [
        "import keras\n",
        "from keras.layers import Activation, Dense, Dropout, Conv2D, \\\n",
        "                         Flatten, MaxPooling2D\n",
        "from keras.models import Sequential\n",
        "import librosa\n",
        "import librosa.display\n",
        "import numpy as np\n",
        "import pandas as pd\n",
        "import random\n",
        "\n",
        "import warnings\n",
        "warnings.filterwarnings('ignore')"
      ],
      "execution_count": null,
      "outputs": []
    },
    {
      "cell_type": "code",
      "metadata": {
        "id": "LFxQ18hPMi2y"
      },
      "source": [
        "'''# Read Data\n",
        "data = pd.read_csv('code/UrbanSound8K/metadata/UrbanSound8K.csv')\n",
        "data.head(5)"
      ],
      "execution_count": null,
      "outputs": []
    },
    {
      "cell_type": "code",
      "metadata": {
        "id": "zrXsDTjYMkyK"
      },
      "source": [
        "'''data.shape"
      ],
      "execution_count": null,
      "outputs": []
    },
    {
      "cell_type": "code",
      "metadata": {
        "id": "-GLJvmF-MnEI"
      },
      "source": [
        "'''# Get data over 3 seconds long\n",
        "valid_data = data[['slice_file_name', 'fold' ,'classID', 'class']][ data['end']-data['start'] >= 3 ]\n",
        "valid_data.shape"
      ],
      "execution_count": null,
      "outputs": []
    },
    {
      "cell_type": "code",
      "metadata": {
        "id": "dAtexXhNMrIy"
      },
      "source": [
        "'''# Iterate over all samples in valid. For every sample, construct the (128,128) spectrogram\n",
        "valid_data['path'] = 'fold' + valid_data['fold'].astype('str') + '/' + valid_data['slice_file_name'].astype('str')"
      ],
      "execution_count": null,
      "outputs": []
    },
    {
      "cell_type": "code",
      "metadata": {
        "id": "S7npfY8sMt4j"
      },
      "source": [
        "'''D = [] # Dataset\n",
        "\n",
        "for row in valid_data.itertuples():\n",
        "    y, sr = librosa.load('code/UrbanSound8K/audio/' + row.path, duration=2.97)  \n",
        "    ps = librosa.feature.melspectrogram(y=y, sr=sr)\n",
        "    if ps.shape != (128, 128): continue\n",
        "    D.append( (ps, row.classID) )"
      ],
      "execution_count": null,
      "outputs": []
    },
    {
      "cell_type": "code",
      "metadata": {
        "id": "hZlNPg0zMwE0"
      },
      "source": [
        "'''print(\"Number of samples: \", len(D))"
      ],
      "execution_count": null,
      "outputs": []
    },
    {
      "cell_type": "code",
      "metadata": {
        "id": "-VNwXjcDMx-L"
      },
      "source": [
        "train_made = oneD_train_list\n",
        "test_made = oneD_test_list\n",
        "valid_made=oneD_valid_list\n",
        "\n",
        "# x to macierze spektrogramów, a y to cyfry określające do której klasy należy każde nagranie\n",
        "X_train, y_train = zip(train_made[0])\n",
        "X_test, y_test = zip(test_made[0])\n",
        "X_valid, y_valid =zip(valid_made[0])\n",
        "\n",
        "# Zmiana rozmiarów, żeby pasowało do sieci\n",
        "X_train = np.array([tf.reshape(X_train, (128, 32, 1) ) for x in X_train])\n",
        "X_test = np.array([tf.reshape(X_test, (128, 32, 1) ) for x in X_test])\n",
        "X_valid = np.array([tf.reshape(X_test, (128, 32, 1) ) for x in X_valid])\n",
        "# One-Hot encoding for classes\n",
        "y_train = np.array(keras.utils.to_categorical(y_train, 5))\n",
        "y_test = np.array(keras.utils.to_categorical(y_test, 5))\n",
        "y_valid = np.array(keras.utils.to_categorical(y_valid, 5))"
      ],
      "execution_count": null,
      "outputs": []
    },
    {
      "cell_type": "code",
      "metadata": {
        "id": "J9HEPDmkMz7Y"
      },
      "source": [
        "model = Sequential()\n",
        "input_shape=(128, 32, 1) #input sieci musi byc taki sam jak wymiar macierzy czyli 128x128 jest ok o ile jest nmels=128\n",
        "\n",
        "model.add(Conv2D(24, (5, 5), strides=(1, 1), input_shape=input_shape))\n",
        "model.add(MaxPooling2D((4, 2), strides=(4, 2)))\n",
        "model.add(Activation('relu'))\n",
        "\n",
        "model.add(Conv2D(48, (5, 5), padding=\"valid\"))\n",
        "model.add(MaxPooling2D((4, 2), strides=(4, 2)))\n",
        "model.add(Activation('relu'))\n",
        "\n",
        "model.add(Conv2D(48, (5, 5), padding=\"valid\"))\n",
        "model.add(Activation('relu'))\n",
        "\n",
        "model.add(Flatten())\n",
        "model.add(Dropout(rate=0.5))\n",
        "\n",
        "model.add(Dense(64))\n",
        "model.add(Activation('relu'))\n",
        "model.add(Dropout(rate=0.5))\n",
        "\n",
        "model.add(Dense(6)) #dense= 3+ 1 (3 komendy= go, down, left oraz 1 unknown=one, marvin)\n",
        "model.add(Activation('softmax'))"
      ],
      "execution_count": null,
      "outputs": []
    },
    {
      "cell_type": "code",
      "metadata": {
        "id": "SvmKyKrBM12K"
      },
      "source": [
        "model.compile(\n",
        "\toptimizer=\"Adam\",\n",
        "\tloss=\"categorical_crossentropy\",\n",
        "\tmetrics=['accuracy'])\n",
        "\n",
        "model.fit(\n",
        "\tx=X_train, \n",
        "\ty=y_train,\n",
        "    epochs=12,\n",
        "    batch_size=128,\n",
        "    validation_data= (X_test, y_test))\n",
        "\n",
        "score = model.evaluate(\n",
        "\tx=X_test,\n",
        "\ty=y_test)\n",
        "\n",
        "print('Test loss:', score[0])\n",
        "print('Test accuracy:', score[1])"
      ],
      "execution_count": null,
      "outputs": []
    }
  ]
}